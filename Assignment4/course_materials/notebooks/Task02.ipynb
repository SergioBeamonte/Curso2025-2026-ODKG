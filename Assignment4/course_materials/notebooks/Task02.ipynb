{
  "cells": [
    {
      "cell_type": "markdown",
      "metadata": {
        "id": "mykrL5dzjdZd"
      },
      "source": [
        "**Task 02: Managing statements**"
      ]
    },
    {
      "cell_type": "markdown",
      "metadata": {
        "id": "LnByOT0rjr5G"
      },
      "source": [
        "Comenzamos con un grafo vacío"
      ]
    },
    {
      "cell_type": "code",
      "execution_count": 1,
      "metadata": {
        "colab": {
          "base_uri": "https://localhost:8080/"
        },
        "id": "iOqfw6cYjdKg",
        "outputId": "80d7d65d-0af9-4ecf-f0f9-023c88a5e555"
      },
      "outputs": [
        {
          "output_type": "stream",
          "name": "stdout",
          "text": [
            "Collecting rdflib\n",
            "  Downloading rdflib-7.2.1-py3-none-any.whl.metadata (11 kB)\n",
            "Requirement already satisfied: pyparsing<4,>=2.1.0 in /usr/local/lib/python3.12/dist-packages (from rdflib) (3.2.4)\n",
            "Downloading rdflib-7.2.1-py3-none-any.whl (565 kB)\n",
            "\u001b[?25l   \u001b[90m━━━━━━━━━━━━━━━━━━━━━━━━━━━━━━━━━━━━━━━━\u001b[0m \u001b[32m0.0/565.4 kB\u001b[0m \u001b[31m?\u001b[0m eta \u001b[36m-:--:--\u001b[0m\r\u001b[2K   \u001b[91m━━━━━━━━━━━━━━━━━━━━━━━━━━━━━━━━━━━━━━━\u001b[0m\u001b[91m╸\u001b[0m \u001b[32m563.2/565.4 kB\u001b[0m \u001b[31m18.2 MB/s\u001b[0m eta \u001b[36m0:00:01\u001b[0m\r\u001b[2K   \u001b[90m━━━━━━━━━━━━━━━━━━━━━━━━━━━━━━━━━━━━━━━━\u001b[0m \u001b[32m565.4/565.4 kB\u001b[0m \u001b[31m11.1 MB/s\u001b[0m eta \u001b[36m0:00:00\u001b[0m\n",
            "\u001b[?25hInstalling collected packages: rdflib\n",
            "Successfully installed rdflib-7.2.1\n"
          ]
        }
      ],
      "source": [
        "!pip install rdflib\n",
        "github_storage = \"https://raw.githubusercontent.com/FacultadInformatica-LinkedData/Curso2025-2026/refs/heads/master/Assignment4/course_materials\""
      ]
    },
    {
      "cell_type": "code",
      "execution_count": 2,
      "metadata": {
        "id": "hoa1F3UZjPJB"
      },
      "outputs": [],
      "source": [
        "from rdflib import Graph, Namespace, Literal\n",
        "g = Graph()"
      ]
    },
    {
      "cell_type": "markdown",
      "metadata": {
        "id": "DZPMjhmnjxVO"
      },
      "source": [
        "Creamos el recurso John Smith con su nombre completo\n"
      ]
    },
    {
      "cell_type": "code",
      "execution_count": 3,
      "metadata": {
        "id": "mFRCCFmTkG6S"
      },
      "outputs": [],
      "source": [
        "fullName = Literal(\"John Smith\")\n",
        "EX = Namespace(\"http://example.org/\")\n",
        "johnURI = EX.JohnSmith"
      ]
    },
    {
      "cell_type": "markdown",
      "metadata": {
        "id": "u8i7EOwZlPGi"
      },
      "source": [
        "Generamos la sentencia añadiendo el predicado (propiedad)"
      ]
    },
    {
      "cell_type": "code",
      "execution_count": 4,
      "metadata": {
        "colab": {
          "base_uri": "https://localhost:8080/"
        },
        "id": "iocF6ceGlJL3",
        "outputId": "cf2b3bc6-29b5-47bc-db41-7371befe1694"
      },
      "outputs": [
        {
          "output_type": "stream",
          "name": "stdout",
          "text": [
            "(rdflib.term.URIRef('http://example.org/JohnSmith'), rdflib.term.URIRef('http://www.w3.org/2001/vcard-rdf/3.0#FN'), rdflib.term.Literal('John Smith'))\n"
          ]
        },
        {
          "output_type": "execute_result",
          "data": {
            "text/plain": [
              "<Graph identifier=N0cc87093828549529acdc8f7bde48ae8 (<class 'rdflib.graph.Graph'>)>"
            ]
          },
          "metadata": {},
          "execution_count": 4
        }
      ],
      "source": [
        "VCARD = Namespace(\"http://www.w3.org/2001/vcard-rdf/3.0#\")\n",
        "\n",
        "resource = (johnURI, VCARD.FN, fullName)\n",
        "\n",
        "print(resource)\n",
        "\n",
        "g.add(resource)"
      ]
    },
    {
      "cell_type": "markdown",
      "metadata": {
        "id": "_r2IA6SHmkyh"
      },
      "source": [
        "Creamos otro recurso para Jane con su nombre completo e email"
      ]
    },
    {
      "cell_type": "markdown",
      "metadata": {
        "id": "wllA6e-enah6"
      },
      "source": [
        "Podemos abreviar un poco lo que hemos hecho en la tarea anterior, atención a los dobles paréntesis, add() acepta un solo parámetro en forma de tupla, no 3 parámetros."
      ]
    },
    {
      "cell_type": "code",
      "execution_count": 5,
      "metadata": {
        "colab": {
          "base_uri": "https://localhost:8080/"
        },
        "id": "h6V6msiVnZzV",
        "outputId": "9b3e275b-13f9-41c8-b0aa-853b307b6e45"
      },
      "outputs": [
        {
          "output_type": "execute_result",
          "data": {
            "text/plain": [
              "<Graph identifier=N0cc87093828549529acdc8f7bde48ae8 (<class 'rdflib.graph.Graph'>)>"
            ]
          },
          "metadata": {},
          "execution_count": 5
        }
      ],
      "source": [
        "g.add((EX.JaneSmith, VCARD.FN, Literal(\"Jane Smith\")))\n",
        "g.add((EX.JaneSmith, VCARD.EMAIL, Literal(\"jsmith@example.org\")))"
      ]
    },
    {
      "cell_type": "markdown",
      "metadata": {
        "id": "_UPNqIOboSio"
      },
      "source": [
        "Añadimos una relación entre John y Jane mediante el vocabulario FOAF"
      ]
    },
    {
      "cell_type": "markdown",
      "metadata": {
        "id": "DkZjkRHEonAo"
      },
      "source": [
        "Hay ciertos espacios de nombres que son nativos a RDFlib, FOAF es uno de ellos y no hace falta que lo declaremos nosotros"
      ]
    },
    {
      "cell_type": "code",
      "execution_count": 6,
      "metadata": {
        "id": "4jL9pXaYo1uN"
      },
      "outputs": [],
      "source": [
        "from rdflib import FOAF"
      ]
    },
    {
      "cell_type": "code",
      "execution_count": 7,
      "metadata": {
        "colab": {
          "base_uri": "https://localhost:8080/"
        },
        "id": "tDl33PvIo4Ga",
        "outputId": "c35bb00e-322e-44ba-9cb8-afcdd3e2e820"
      },
      "outputs": [
        {
          "output_type": "execute_result",
          "data": {
            "text/plain": [
              "<Graph identifier=N0cc87093828549529acdc8f7bde48ae8 (<class 'rdflib.graph.Graph'>)>"
            ]
          },
          "metadata": {},
          "execution_count": 7
        }
      ],
      "source": [
        "g.add((EX.JohnSmith, FOAF.knows, EX.JaneSmith))"
      ]
    },
    {
      "cell_type": "markdown",
      "metadata": {
        "id": "ZVs6mM7vr4Y7"
      },
      "source": [
        "Vemos el resultado conjunto"
      ]
    },
    {
      "cell_type": "code",
      "execution_count": 8,
      "metadata": {
        "colab": {
          "base_uri": "https://localhost:8080/"
        },
        "id": "ri30SNw8r67i",
        "outputId": "f9f4ea7e-e0f7-437a-d73c-f71acbafb808"
      },
      "outputs": [
        {
          "output_type": "stream",
          "name": "stdout",
          "text": [
            "@prefix foaf: <http://xmlns.com/foaf/0.1/> .\n",
            "@prefix ns1: <http://www.w3.org/2001/vcard-rdf/3.0#> .\n",
            "\n",
            "<http://example.org/JohnSmith> ns1:FN \"John Smith\" ;\n",
            "    foaf:knows <http://example.org/JaneSmith> .\n",
            "\n",
            "<http://example.org/JaneSmith> ns1:EMAIL \"jsmith@example.org\" ;\n",
            "    ns1:FN \"Jane Smith\" .\n",
            "\n",
            "\n"
          ]
        }
      ],
      "source": [
        "print(g.serialize(format=\"ttl\"))"
      ]
    },
    {
      "cell_type": "markdown",
      "metadata": {
        "id": "rZm6XWnQw8Ux"
      },
      "source": [
        "Tambien puedes incluir el prefijo EX en el grafo:"
      ]
    },
    {
      "cell_type": "code",
      "execution_count": 9,
      "metadata": {
        "id": "y9zjatOpw8Ux",
        "outputId": "ea59c869-7a7d-4dd9-bd44-277c41722f1f",
        "colab": {
          "base_uri": "https://localhost:8080/"
        }
      },
      "outputs": [
        {
          "output_type": "stream",
          "name": "stdout",
          "text": [
            "@prefix ex: <http://example.org/> .\n",
            "@prefix foaf: <http://xmlns.com/foaf/0.1/> .\n",
            "@prefix ns1: <http://www.w3.org/2001/vcard-rdf/3.0#> .\n",
            "\n",
            "ex:JohnSmith ns1:FN \"John Smith\" ;\n",
            "    foaf:knows ex:JaneSmith .\n",
            "\n",
            "ex:JaneSmith ns1:EMAIL \"jsmith@example.org\" ;\n",
            "    ns1:FN \"Jane Smith\" .\n",
            "\n",
            "\n"
          ]
        }
      ],
      "source": [
        "g.namespace_manager.bind('ex', EX)\n",
        "print(g.serialize(format=\"ttl\"))"
      ]
    },
    {
      "cell_type": "code",
      "execution_count": 9,
      "metadata": {
        "id": "-4MIj-8mw8Ux"
      },
      "outputs": [],
      "source": []
    }
  ],
  "metadata": {
    "colab": {
      "name": "Task02.ipynb",
      "provenance": []
    },
    "kernelspec": {
      "display_name": "Python 3 (ipykernel)",
      "language": "python",
      "name": "python3"
    },
    "language_info": {
      "codemirror_mode": {
        "name": "ipython",
        "version": 3
      },
      "file_extension": ".py",
      "mimetype": "text/x-python",
      "name": "python",
      "nbconvert_exporter": "python",
      "pygments_lexer": "ipython3",
      "version": "3.9.5"
    }
  },
  "nbformat": 4,
  "nbformat_minor": 0
}